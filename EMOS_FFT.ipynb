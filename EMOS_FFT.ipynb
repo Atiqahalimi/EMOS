{
  "nbformat": 4,
  "nbformat_minor": 0,
  "metadata": {
    "colab": {
      "name": "EMOS_FFT.ipynb",
      "provenance": []
    },
    "kernelspec": {
      "name": "python3",
      "display_name": "Python 3"
    },
    "language_info": {
      "name": "python"
    }
  },
  "cells": [
    {
      "cell_type": "markdown",
      "source": [
        "# Import necessary modules"
      ],
      "metadata": {
        "id": "SQKspe0N7-Fn"
      }
    },
    {
      "cell_type": "code",
      "execution_count": null,
      "metadata": {
        "id": "ropWlU_YwqbT"
      },
      "outputs": [],
      "source": [
        "import pandas as pd\n",
        "import plotly.graph_objects as go\n",
        "import numpy as np\n",
        "\n",
        "from numpy.fft import rfft, rfftfreq\n",
        "import matplotlib.pyplot as plt\n",
        "\n",
        "from scipy import signal\n",
        "from scipy.signal import find_peaks\n",
        "from google.colab import files\n",
        "import os.path\n"
      ]
    },
    {
      "cell_type": "markdown",
      "source": [
        "# Upload files (6 files in one time)"
      ],
      "metadata": {
        "id": "BFAbep2b_lf5"
      }
    },
    {
      "cell_type": "code",
      "source": [
        "filenames = list(files.upload())\n",
        "display(filenames)"
      ],
      "metadata": {
        "colab": {
          "resources": {
            "http://localhost:8080/nbextensions/google.colab/files.js": {
              "data": "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",
              "ok": true,
              "headers": [
                [
                  "content-type",
                  "application/javascript"
                ]
              ],
              "status": 200,
              "status_text": ""
            }
          },
          "base_uri": "https://localhost:8080/",
          "height": 351
        },
        "id": "CdcRpZX4w1RG",
        "outputId": "c1667525-1985-48b3-db1b-bcc2750488f2"
      },
      "execution_count": null,
      "outputs": [
        {
          "output_type": "display_data",
          "data": {
            "text/plain": [
              "<IPython.core.display.HTML object>"
            ],
            "text/html": [
              "\n",
              "     <input type=\"file\" id=\"files-00deba25-77d9-4a41-969c-5a2e8c4f44b1\" name=\"files[]\" multiple disabled\n",
              "        style=\"border:none\" />\n",
              "     <output id=\"result-00deba25-77d9-4a41-969c-5a2e8c4f44b1\">\n",
              "      Upload widget is only available when the cell has been executed in the\n",
              "      current browser session. Please rerun this cell to enable.\n",
              "      </output>\n",
              "      <script src=\"/nbextensions/google.colab/files.js\"></script> "
            ]
          },
          "metadata": {}
        },
        {
          "output_type": "stream",
          "name": "stdout",
          "text": [
            "Saving X_Part1.csv to X_Part1.csv\n",
            "Saving X_Part2.csv to X_Part2.csv\n",
            "Saving X_Part3.csv to X_Part3.csv\n",
            "Saving X_Part4.csv to X_Part4.csv\n",
            "Saving X_Part5.csv to X_Part5.csv\n",
            "Saving X_Part6.csv to X_Part6.csv\n"
          ]
        },
        {
          "output_type": "display_data",
          "data": {
            "text/plain": [
              "['X_Part1.csv',\n",
              " 'X_Part2.csv',\n",
              " 'X_Part3.csv',\n",
              " 'X_Part4.csv',\n",
              " 'X_Part5.csv',\n",
              " 'X_Part6.csv']"
            ]
          },
          "metadata": {}
        }
      ]
    },
    {
      "cell_type": "markdown",
      "source": [
        "# Display all graph"
      ],
      "metadata": {
        "id": "Ezrky2Q-EenR"
      }
    },
    {
      "cell_type": "code",
      "source": [
        "#Dataset 1\n",
        "t=pd.read_csv(filenames[0],usecols=[0])\n",
        "a=pd.read_csv(filenames[0],usecols=[1])\n",
        "n=len(a)\n",
        "dt=0.1\n",
        "\n",
        "#Dataset 2\n",
        "t1=pd.read_csv(filenames[1],usecols=[0])\n",
        "a1=pd.read_csv(filenames[1],usecols=[1])\n",
        "n1=len(a1)\n",
        "dt=0.1\n",
        "\n",
        "#Dataset 3\n",
        "t2=pd.read_csv(filenames[2],usecols=[0])\n",
        "a2=pd.read_csv(filenames[2],usecols=[1])\n",
        "n2=len(a2)\n",
        "dt=0.1\n",
        "\n",
        "#Dataset 4\n",
        "t3=pd.read_csv(filenames[3],usecols=[0])\n",
        "a3=pd.read_csv(filenames[3],usecols=[1])\n",
        "n3=len(a3)\n",
        "dt=0.1\n",
        "\n",
        "#Dataset 5\n",
        "t4=pd.read_csv(filenames[4],usecols=[0])\n",
        "a4=pd.read_csv(filenames[4],usecols=[1])\n",
        "n4=len(a4)\n",
        "dt=0.1\n",
        "\n",
        "#Dataset 6\n",
        "t5=pd.read_csv(filenames[5],usecols=[0])\n",
        "a5=pd.read_csv(filenames[5],usecols=[1])\n",
        "n5=len(a5)\n",
        "\n",
        "dt=0.1 #time increment in each data\n",
        "\n",
        "#to convert DataFrame to 1D array\n",
        "#acc value must be in numpy array format for half way mirror calculation\n",
        "\n",
        "#Dataset1\n",
        "acc=a.values.flatten() \n",
        "#Dataset2\n",
        "acc1=a1.values.flatten()\n",
        "#Dataset3\n",
        "acc2=a2.values.flatten() \n",
        "#Dataset4\n",
        "acc3=a3.values.flatten()\n",
        "#Dataset5\n",
        "acc4=a4.values.flatten() \n",
        "#Dataset6\n",
        "acc5=a5.values.flatten()\n",
        "\n",
        "#Convert data to FFT\n",
        "\n",
        "#Dataset1\n",
        "fft=rfft(acc)*dt\n",
        "freq=rfftfreq(n,d=dt)\n",
        "#Dataset2\n",
        "fft1=rfft(acc1)*dt\n",
        "freq1=rfftfreq(n1,d=dt)\n",
        "#Dataset3\n",
        "fft2=rfft(acc2)*dt\n",
        "freq2=rfftfreq(n2,d=dt)\n",
        "#Dataset4\n",
        "fft3=rfft(acc3)*dt\n",
        "freq3=rfftfreq(n3,d=dt)\n",
        "#Dataset5\n",
        "fft4=rfft(acc4)*dt\n",
        "freq4=rfftfreq(n4,d=dt)\n",
        "#Dataset6\n",
        "fft5=rfft(acc5)*dt\n",
        "freq5=rfftfreq(n5,d=dt)\n",
        "\n",
        "#Plot Graph\n",
        "\n",
        "FFT=abs(fft)\n",
        "FFT1=abs(fft1)\n",
        "FFT2=abs(fft2)\n",
        "FFT3=abs(fft3)\n",
        "FFT4=abs(fft4)\n",
        "FFT5=abs(fft5)\n",
        "\n",
        "plt.figure(figsize=(14,6))\n",
        "\n",
        "plt.subplot(3,2,1)\n",
        "data1 = plt.plot(freq,FFT,color='yellow', alpha=0.5)\n",
        "plt.subplot(3,2,2)\n",
        "data2 = plt.plot(freq1,FFT1,color='blue', alpha=0.5)\n",
        "plt.subplot(3,2,3)\n",
        "data3 = plt.plot(freq2,FFT2,color='green', alpha=0.5)\n",
        "plt.subplot(3,2,4)\n",
        "data4 = plt.plot(freq3,FFT3,color='red', alpha=0.5)\n",
        "plt.subplot(3,2,5)\n",
        "data5 = plt.plot(freq4,FFT4,color='brown', alpha=0.5)\n",
        "plt.subplot(3,2,6)\n",
        "data6 = plt.plot(freq5,FFT5,color='orange', alpha=0.5)\n",
        "\n"
      ],
      "metadata": {
        "colab": {
          "base_uri": "https://localhost:8080/",
          "height": 375
        },
        "id": "xP67xCu9w3fH",
        "outputId": "a7e39745-ead0-4188-dc28-71c4042d4a7c"
      },
      "execution_count": null,
      "outputs": [
        {
          "output_type": "display_data",
          "data": {
            "text/plain": [
              "<Figure size 1008x432 with 6 Axes>"
            ],
            "image/png": "[encoded data removed]"
          },
          "metadata": {
            "needs_background": "light"
          }
        }
      ]
    },
    {
      "cell_type": "markdown",
      "source": [
        "# Display merged Graph"
      ],
      "metadata": {
        "id": "Jt_vGGio_ucJ"
      }
    },
    {
      "cell_type": "code",
      "source": [
        "plt.figure(figsize=(16,8))\n",
        "\n",
        "data1 = plt.plot(freq,FFT,color='yellow', alpha=0.5)\n",
        "data2 = plt.plot(freq1,FFT1,color='blue', alpha=0.5)\n",
        "data3 = plt.plot(freq2,FFT2,color='green', alpha=0.5)\n",
        "data4 = plt.plot(freq3,FFT3,color='red', alpha=0.5)\n",
        "data5 = plt.plot(freq4,FFT4,color='brown', alpha=0.5)\n",
        "data6 = plt.plot(freq5,FFT5,color='orange', alpha=0.5)\n",
        "\n",
        "plt.legend([\"data1\", \"data2\", \"data3\", \"data4\", \"data5\", \"data6\"], loc =\"upper right\")"
      ],
      "metadata": {
        "colab": {
          "base_uri": "https://localhost:8080/",
          "height": 500
        },
        "id": "KYaPTvjyBwZC",
        "outputId": "af19672a-1572-45e4-facf-e055e4b5ab54"
      },
      "execution_count": null,
      "outputs": [
        {
          "output_type": "execute_result",
          "data": {
            "text/plain": [
              "<matplotlib.legend.Legend at 0x7fd3609e65d0>"
            ]
          },
          "metadata": {},
          "execution_count": 5
        },
        {
          "output_type": "display_data",
          "data": {
            "text/plain": [
              "<Figure size 1152x576 with 1 Axes>"
            ],
            "image/png": "[encoded data removed]"
          },
          "metadata": {
            "needs_background": "light"
          }
        }
      ]
    },
    {
      "cell_type": "markdown",
      "source": [
        "# Display NF"
      ],
      "metadata": {
        "id": "3m7jhQdB_6R-"
      }
    },
    {
      "cell_type": "code",
      "source": [
        "#Display NF\n",
        "\n",
        "#Dataset1\n",
        "n = np.array(FFT)\n",
        "nf = freq[np.argmax(n)]\n",
        "print('nf1  : ', nf, 'Hz \\n')\n",
        "#Dataset2\n",
        "n1 = np.array(FFT1)\n",
        "nf1= freq1[np.argmax(n1)]\n",
        "print('nf2  : ', nf1, 'Hz \\n')\n",
        "#Dataset3\n",
        "n2 = np.array(FFT2)\n",
        "nf2 = freq2[np.argmax(n2)]\n",
        "print('nf3  : ', nf2, 'Hz \\n')\n",
        "#Dataset4\n",
        "n3 = np.array(FFT3)\n",
        "nf3= freq3[np.argmax(n3)]\n",
        "print('nf4  : ', nf3, 'Hz \\n')\n",
        "#Dataset5\n",
        "n4 = np.array(FFT4)\n",
        "nf4 = freq4[np.argmax(n4)]\n",
        "print('nf5  : ', nf4, 'Hz \\n')\n",
        "#Dataset6\n",
        "n5 = np.array(FFT5)\n",
        "nf5= freq5[np.argmax(n5)]\n",
        "print('nf6  : ', nf5, 'Hz \\n')"
      ],
      "metadata": {
        "colab": {
          "base_uri": "https://localhost:8080/"
        },
        "id": "swV-B8JSH6Am",
        "outputId": "9d6fec6d-ccae-49d8-95ad-539983892fac"
      },
      "execution_count": null,
      "outputs": [
        {
          "output_type": "stream",
          "name": "stdout",
          "text": [
            "nf1  :  0.31333333333333335 Hz \n",
            "\n",
            "nf2  :  0.29500000000000004 Hz \n",
            "\n",
            "nf3  :  0.30277777777777776 Hz \n",
            "\n",
            "nf4  :  0.30277777777777776 Hz \n",
            "\n",
            "nf5  :  0.31424242424242427 Hz \n",
            "\n",
            "nf6  :  0.31444444444444447 Hz \n",
            "\n",
            "The maximum value is : 0.31444444444444447\n"
          ]
        }
      ]
    },
    {
      "cell_type": "markdown",
      "source": [
        "# Save data to csv file"
      ],
      "metadata": {
        "id": "8YmBhVc9_96V"
      }
    },
    {
      "cell_type": "code",
      "source": [
        "import csv\n",
        "\n",
        "with open('output.csv', 'w', newline='') as file:\n",
        "    fieldnames = ['file_name', 'NF(Hz)', 'NP(s)']\n",
        "    writer = csv.DictWriter(file, fieldnames=fieldnames)\n",
        "\n",
        "    writer.writeheader()\n",
        "    writer.writerow({'file_name': 'data1', 'NF(Hz)': nf, 'NP(s)': 1/nf})\n",
        "    writer.writerow({'file_name': 'data2', 'NF(Hz)': nf1, 'NP(s)': 1/nf1})\n",
        "    writer.writerow({'file_name': 'data3', 'NF(Hz)': nf2, 'NP(s)': 1/nf2})\n",
        "    writer.writerow({'file_name': 'data4', 'NF(Hz)': nf3, 'NP(s)': 1/nf3})\n",
        "    writer.writerow({'file_name': 'data5', 'NF(Hz)': nf4, 'NP(s)': 1/nf4})\n",
        "    writer.writerow({'file_name': 'data6', 'NF(Hz)': nf5, 'NP(s)': 1/nf5})\n",
        "\n",
        "data = pd.read_csv('output.csv')\n",
        "\n",
        "# Print it out\n",
        "print(data)"
      ],
      "metadata": {
        "colab": {
          "base_uri": "https://localhost:8080/"
        },
        "id": "9wxhXPyEVmiQ",
        "outputId": "01f3db23-b27c-4eb0-b5bb-5951757fe678"
      },
      "execution_count": null,
      "outputs": [
        {
          "output_type": "stream",
          "name": "stdout",
          "text": [
            "  file_name    NF(Hz)     NP(s)\n",
            "0     data1  0.313333  3.191489\n",
            "1     data2  0.295000  3.389831\n",
            "2     data3  0.302778  3.302752\n",
            "3     data4  0.302778  3.302752\n",
            "4     data5  0.314242  3.182257\n",
            "5     data6  0.314444  3.180212\n"
          ]
        }
      ]
    },
    {
      "cell_type": "markdown",
      "source": [
        "# Display NF graph"
      ],
      "metadata": {
        "id": "FYcH-sTfADli"
      }
    },
    {
      "cell_type": "code",
      "source": [
        "data['NF(Hz)'].plot()\n",
        "\n",
        "#Specifying the threshold for safety vibration\n",
        "\n",
        "'''\n",
        "NOTE:\n",
        "The value can be change accordingly with type of elevator\n",
        "Threshold 0.5 is refer from the Schindler elevators criterion\n",
        "'''\n",
        "plt.axhline(y = 0.5, color = 'r', linestyle = '-')\n",
        "\n",
        "plt.grid()\n",
        "\n",
        "# Determine the maximum value of NF\n",
        "max_value = max(data['NF(Hz)'])\n",
        "print('The maximum value is :', max_value, '\\n')\n",
        "\n",
        "#State if the maximum value excees threashold or not\n",
        "if max_value<0.5:\n",
        "  print('No Value Exceed Threshold\\n')\n",
        "\n",
        "else:\n",
        "  print(max_value, ' Exceed Threshold\\n')\n"
      ],
      "metadata": {
        "colab": {
          "base_uri": "https://localhost:8080/",
          "height": 334
        },
        "id": "-ESM_eLnV5Oh",
        "outputId": "c8107aa0-e4f8-48e3-e2f0-f9b665c21e8c"
      },
      "execution_count": null,
      "outputs": [
        {
          "output_type": "stream",
          "name": "stdout",
          "text": [
            "The maximum value is : 0.3144444444444444 \n",
            "\n",
            "No Value Exceed Threshold\n",
            "\n"
          ]
        },
        {
          "output_type": "display_data",
          "data": {
            "text/plain": [
              "<Figure size 432x288 with 1 Axes>"
            ],
            "image/png": "[encoded data removed]"
          },
          "metadata": {
            "needs_background": "light"
          }
        }
      ]
    },
    {
      "cell_type": "markdown",
      "source": [
        "# Display NP graph"
      ],
      "metadata": {
        "id": "4MoP0jhHAHhI"
      }
    },
    {
      "cell_type": "code",
      "source": [
        "data['NP(s)'].plot(color='orange')\n",
        "\n",
        "# specifying the threshold for safety vibration\n",
        "plt.axhline(y = 2, color = 'r', linestyle = '-')\n",
        "\n",
        "plt.grid()\n",
        "\n",
        "# Determine the minimum value of NP\n",
        "min_value = min(data['NP(s)'])\n",
        "print('The minimum value is :', min_value, '\\n')\n",
        "\n",
        "#State if the minimum value excees threashold or not\n",
        "if min_value>2:\n",
        "  print('No Value Exceed Threshold\\n')\n",
        "\n",
        "else:\n",
        "  print(min_value, ' Exceed Threashold\\n')"
      ],
      "metadata": {
        "colab": {
          "base_uri": "https://localhost:8080/",
          "height": 334
        },
        "id": "n3r-nNEeWAal",
        "outputId": "92b6de1f-3151-4145-8c16-e98e62102e40"
      },
      "execution_count": null,
      "outputs": [
        {
          "output_type": "stream",
          "name": "stdout",
          "text": [
            "The minimum value is : 3.180212014134276 \n",
            "\n",
            "No Value Exceed Threshold\n",
            "\n"
          ]
        },
        {
          "output_type": "display_data",
          "data": {
            "text/plain": [
              "<Figure size 432x288 with 1 Axes>"
            ],
            "image/png": "[encoded data removed]"
          },
          "metadata": {
            "needs_background": "light"
          }
        }
      ]
    }
  ]
}